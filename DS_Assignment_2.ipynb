{
  "nbformat": 4,
  "nbformat_minor": 0,
  "metadata": {
    "colab": {
      "provenance": [],
      "authorship_tag": "ABX9TyMPH5n14j4xIV5cOFk1HnZV",
      "include_colab_link": true
    },
    "kernelspec": {
      "name": "python3",
      "display_name": "Python 3"
    },
    "language_info": {
      "name": "python"
    }
  },
  "cells": [
    {
      "cell_type": "markdown",
      "metadata": {
        "id": "view-in-github",
        "colab_type": "text"
      },
      "source": [
        "<a href=\"https://colab.research.google.com/github/HK-hy3/Basic-Linear-Algebra/blob/main/DS_Assignment_2.ipynb\" target=\"_parent\"><img src=\"https://colab.research.google.com/assets/colab-badge.svg\" alt=\"Open In Colab\"/></a>"
      ]
    },
    {
      "cell_type": "code",
      "execution_count": 1,
      "metadata": {
        "id": "IYKWlPvhAvzW"
      },
      "outputs": [],
      "source": [
        "import numpy as np\n",
        "from scipy.linalg import det, inv, orth"
      ]
    },
    {
      "cell_type": "code",
      "source": [
        "# --- Q1: Matrix Operations ---\n",
        "A = np.array([[2, 4], [3, 5]])\n",
        "B = np.array([[1, 2], [2, 3]])\n",
        "\n",
        "# Addition\n",
        "add_result = A + B\n",
        "\n",
        "# Subtraction\n",
        "sub_result = A - B\n",
        "\n",
        "# Matrix Multiplication\n",
        "mul_result = np.dot(A, B)\n",
        "\n",
        "# Element-wise Multiplication\n",
        "elem_mul_result = A * B\n",
        "\n",
        "# Determinant\n",
        "det_A = det(A)\n",
        "\n",
        "# Inverse\n",
        "inv_A = inv(A)\n",
        "\n",
        "print(\"Addition:\\n\", add_result)\n",
        "print(\"Subtraction:\\n\", sub_result)\n",
        "print(\"Matrix Multiplication:\\n\", mul_result)\n",
        "print(\"Element-wise Multiplication:\\n\", elem_mul_result)\n",
        "print(\"Determinant of A:\", det_A)\n",
        "print(\"Inverse of A:\\n\", inv_A)\n"
      ],
      "metadata": {
        "colab": {
          "base_uri": "https://localhost:8080/"
        },
        "id": "PPiF_909BCSM",
        "outputId": "78f5d44d-e5e7-46a5-ee3b-4e62cf36365a"
      },
      "execution_count": 2,
      "outputs": [
        {
          "output_type": "stream",
          "name": "stdout",
          "text": [
            "Addition:\n",
            " [[3 6]\n",
            " [5 8]]\n",
            "Subtraction:\n",
            " [[1 2]\n",
            " [1 2]]\n",
            "Matrix Multiplication:\n",
            " [[10 16]\n",
            " [13 21]]\n",
            "Element-wise Multiplication:\n",
            " [[ 2  8]\n",
            " [ 6 15]]\n",
            "Determinant of A: -2.0\n",
            "Inverse of A:\n",
            " [[-2.5  2. ]\n",
            " [ 1.5 -1. ]]\n"
          ]
        }
      ]
    },
    {
      "cell_type": "code",
      "source": [
        "# --- Q2: Eigenvalues & Eigenvectors ---\n",
        "eigenvalues, eigenvectors = np.linalg.eig(A)\n",
        "\n",
        "# Check orthogonality\n",
        "orthogonality_check = np.dot(eigenvectors.T, eigenvectors)\n",
        "\n",
        "print(\"Eigenvalues of A:\\n\", eigenvalues)  # Printing only eigenvalues\n",
        "print(\"Eigenvectors of A:\\n\", eigenvectors)\n",
        "print(\"Orthogonality Check (should be identity matrix):\\n\", orthogonality_check)\n",
        "\n",
        "if np.allclose(orthogonality_check, np.eye(eigenvectors.shape[1])):\n",
        "    print(\"Eigenvectors are orthogonal.\")\n",
        "else:\n",
        "    print(\"Eigenvectors are not orthogonal.\")"
      ],
      "metadata": {
        "colab": {
          "base_uri": "https://localhost:8080/"
        },
        "id": "XFWoaWmmBHGc",
        "outputId": "76ee6566-4181-47a9-bf1e-932805b21576"
      },
      "execution_count": 6,
      "outputs": [
        {
          "output_type": "stream",
          "name": "stdout",
          "text": [
            "Eigenvalues of A:\n",
            " [-0.27491722  7.27491722]\n",
            "Eigenvectors of A:\n",
            " [[-0.86925207 -0.60422718]\n",
            " [ 0.49436913 -0.79681209]]\n",
            "Orthogonality Check (should be identity matrix):\n",
            " [[1.         0.13130643]\n",
            " [0.13130643 1.        ]]\n",
            "Eigenvectors are not orthogonal.\n"
          ]
        }
      ]
    },
    {
      "cell_type": "code",
      "source": [
        "# --- Q3: Span and Basis ---\n",
        "\n",
        "# Define a set of vectors (rows represent vectors)\n",
        "V = np.array([[1, 2, 3], [2, 4, 6], [3, 6, 9]])\n",
        "\n",
        "# Compute the basis (orthonormal basis using QR decomposition)\n",
        "basis = orth(V)\n",
        "\n",
        "# Span explanation\n",
        "span_dim = np.linalg.matrix_rank(V)  # The dimension of the span\n",
        "\n",
        "print(\"Original Set of Vectors:\\n\", V)\n",
        "print(\"Basis of the Vector Space:\\n\", basis)\n",
        "print(f\"Dimension of the Span: {span_dim}\")\n"
      ],
      "metadata": {
        "colab": {
          "base_uri": "https://localhost:8080/"
        },
        "id": "gDrCMtcyBKZ-",
        "outputId": "a1b12fd4-a1dc-468a-83a7-ea979aa0de6c"
      },
      "execution_count": 8,
      "outputs": [
        {
          "output_type": "stream",
          "name": "stdout",
          "text": [
            "Original Set of Vectors:\n",
            " [[1 2 3]\n",
            " [2 4 6]\n",
            " [3 6 9]]\n",
            "Basis of the Vector Space:\n",
            " [[-0.26726124]\n",
            " [-0.53452248]\n",
            " [-0.80178373]]\n",
            "Dimension of the Span: 1\n"
          ]
        }
      ]
    }
  ]
}